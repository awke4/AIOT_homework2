{
 "cells": [
  {
   "cell_type": "code",
   "execution_count": 99,
   "id": "85472fa7",
   "metadata": {},
   "outputs": [],
   "source": [
    "# 匯入必要套件\n",
    "import pandas as pd\n",
    "import numpy as np\n",
    "import matplotlib.pyplot as plt\n",
    "import seaborn as sns\n",
    "from sklearn.linear_model import LinearRegression\n",
    "from sklearn.model_selection import train_test_split, cross_val_score\n",
    "from sklearn.metrics import mean_squared_error, r2_score\n",
    "from sklearn.feature_selection import SelectKBest, f_regression\n",
    "from sklearn.preprocessing import StandardScaler\n",
    "\n",
    "# 1. 資料讀取\n",
    "df = pd.read_csv('Automobile_data.csv')"
   ]
  },
  {
   "cell_type": "code",
   "execution_count": 100,
   "id": "ab498e88",
   "metadata": {},
   "outputs": [
    {
     "name": "stdout",
     "output_type": "stream",
     "text": [
      "<class 'pandas.core.frame.DataFrame'>\n",
      "RangeIndex: 205 entries, 0 to 204\n",
      "Data columns (total 26 columns):\n",
      " #   Column             Non-Null Count  Dtype  \n",
      "---  ------             --------------  -----  \n",
      " 0   symboling          205 non-null    int64  \n",
      " 1   normalized-losses  205 non-null    object \n",
      " 2   make               205 non-null    object \n",
      " 3   fuel-type          205 non-null    object \n",
      " 4   aspiration         205 non-null    object \n",
      " 5   num-of-doors       205 non-null    object \n",
      " 6   body-style         205 non-null    object \n",
      " 7   drive-wheels       205 non-null    object \n",
      " 8   engine-location    205 non-null    object \n",
      " 9   wheel-base         205 non-null    float64\n",
      " 10  length             205 non-null    float64\n",
      " 11  width              205 non-null    float64\n",
      " 12  height             205 non-null    float64\n",
      " 13  curb-weight        205 non-null    int64  \n",
      " 14  engine-type        205 non-null    object \n",
      " 15  num-of-cylinders   205 non-null    object \n",
      " 16  engine-size        205 non-null    int64  \n",
      " 17  fuel-system        205 non-null    object \n",
      " 18  bore               205 non-null    object \n",
      " 19  stroke             205 non-null    object \n",
      " 20  compression-ratio  205 non-null    float64\n",
      " 21  horsepower         205 non-null    object \n",
      " 22  peak-rpm           205 non-null    object \n",
      " 23  city-mpg           205 non-null    int64  \n",
      " 24  highway-mpg        205 non-null    int64  \n",
      " 25  price              205 non-null    object \n",
      "dtypes: float64(5), int64(5), object(16)\n",
      "memory usage: 41.8+ KB\n",
      "None\n",
      "        symboling  wheel-base      length       width      height  \\\n",
      "count  205.000000  205.000000  205.000000  205.000000  205.000000   \n",
      "mean     0.834146   98.756585  174.049268   65.907805   53.724878   \n",
      "std      1.245307    6.021776   12.337289    2.145204    2.443522   \n",
      "min     -2.000000   86.600000  141.100000   60.300000   47.800000   \n",
      "25%      0.000000   94.500000  166.300000   64.100000   52.000000   \n",
      "50%      1.000000   97.000000  173.200000   65.500000   54.100000   \n",
      "75%      2.000000  102.400000  183.100000   66.900000   55.500000   \n",
      "max      3.000000  120.900000  208.100000   72.300000   59.800000   \n",
      "\n",
      "       curb-weight  engine-size  compression-ratio    city-mpg  highway-mpg  \n",
      "count   205.000000   205.000000         205.000000  205.000000   205.000000  \n",
      "mean   2555.565854   126.907317          10.142537   25.219512    30.751220  \n",
      "std     520.680204    41.642693           3.972040    6.542142     6.886443  \n",
      "min    1488.000000    61.000000           7.000000   13.000000    16.000000  \n",
      "25%    2145.000000    97.000000           8.600000   19.000000    25.000000  \n",
      "50%    2414.000000   120.000000           9.000000   24.000000    30.000000  \n",
      "75%    2935.000000   141.000000           9.400000   30.000000    34.000000  \n",
      "max    4066.000000   326.000000          23.000000   49.000000    54.000000  \n",
      "symboling            0\n",
      "normalized-losses    0\n",
      "make                 0\n",
      "fuel-type            0\n",
      "aspiration           0\n",
      "num-of-doors         0\n",
      "body-style           0\n",
      "drive-wheels         0\n",
      "engine-location      0\n",
      "wheel-base           0\n",
      "length               0\n",
      "width                0\n",
      "height               0\n",
      "curb-weight          0\n",
      "engine-type          0\n",
      "num-of-cylinders     0\n",
      "engine-size          0\n",
      "fuel-system          0\n",
      "bore                 0\n",
      "stroke               0\n",
      "compression-ratio    0\n",
      "horsepower           0\n",
      "peak-rpm             0\n",
      "city-mpg             0\n",
      "highway-mpg          0\n",
      "price                0\n",
      "dtype: int64\n"
     ]
    }
   ],
   "source": [
    "# 2. 資料理解\n",
    "print(df.info())\n",
    "print(df.describe())\n",
    "print(df.isnull().sum())"
   ]
  },
  {
   "cell_type": "code",
   "execution_count": 101,
   "id": "b05ce77d",
   "metadata": {},
   "outputs": [],
   "source": [
    "# 3. 資料前處理\n",
    "# 用平均值/眾數補空缺，或直接刪除缺失多的欄位\n",
    "df = df.replace('?', np.nan)\n",
    "df = df.dropna(subset=['price'])\n",
    "df['price'] = df['price'].astype(float)\n",
    "# 類別型特徵補眾數\n",
    "for col in df.select_dtypes(include='object').columns:\n",
    "    df[col] = df[col].fillna(df[col].mode()[0])\n",
    "\n",
    "# 數值型特徵補均值\n",
    "for col in df.select_dtypes(exclude='object').columns:\n",
    "    df[col] = pd.to_numeric(df[col], errors='coerce')  # 確認類型一致\n",
    "    df[col] = df[col].fillna(df[col].mean())\n",
    "\n",
    "# 類別型特徵處理\n",
    "df = pd.get_dummies(df, drop_first=True)"
   ]
  },
  {
   "cell_type": "code",
   "execution_count": null,
   "id": "d1982d34",
   "metadata": {},
   "outputs": [],
   "source": []
  },
  {
   "cell_type": "code",
   "execution_count": 102,
   "id": "6c2b3c2a",
   "metadata": {},
   "outputs": [
    {
     "name": "stdout",
     "output_type": "stream",
     "text": [
      "選中特徵: Index(['wheel-base', 'length', 'width', 'curb-weight', 'engine-size',\n",
      "       'city-mpg', 'highway-mpg', 'normalized-losses_161', 'make_bmw',\n",
      "       'make_jaguar', 'make_mercedes-benz', 'drive-wheels_fwd',\n",
      "       'drive-wheels_rwd', 'engine-type_ohc', 'engine-type_ohcv',\n",
      "       'num-of-cylinders_four', 'num-of-cylinders_six', 'fuel-system_2bbl',\n",
      "       'fuel-system_mpfi', 'bore_3.8', 'horsepower_182', 'horsepower_184',\n",
      "       'peak-rpm_4750', 'peak-rpm_5900'],\n",
      "      dtype='object')\n"
     ]
    }
   ],
   "source": [
    "# 4. 特徵選擇\n",
    "X = df.drop(['price'], axis=1)\n",
    "y = df['price']\n",
    "selector = SelectKBest(score_func=f_regression, k=24)\n",
    "X_selected = selector.fit_transform(X, y)\n",
    "selected_features = X.columns[selector.get_support()]\n",
    "print(\"選中特徵:\", selected_features)"
   ]
  },
  {
   "cell_type": "code",
   "execution_count": 103,
   "id": "c30a64ec",
   "metadata": {},
   "outputs": [],
   "source": [
    "# 5. 建模與預測\n",
    "X_train, X_test, y_train, y_test = train_test_split(X[selected_features], y, test_size=0.2, random_state=42)\n",
    "scaler = StandardScaler()\n",
    "X_train_scaled = scaler.fit_transform(X_train)\n",
    "X_test_scaled = scaler.transform(X_test)\n",
    "\n",
    "model = LinearRegression()\n",
    "model.fit(X_train_scaled, y_train)\n",
    "y_pred = model.predict(X_test_scaled)"
   ]
  },
  {
   "cell_type": "code",
   "execution_count": 104,
   "id": "4b98dd4b",
   "metadata": {},
   "outputs": [
    {
     "name": "stdout",
     "output_type": "stream",
     "text": [
      "MSE: 12663837.774396218, RMSE: 3558.6286367639177, R²: 0.8964922616648232\n"
     ]
    }
   ],
   "source": [
    "# 6. 模型評估\n",
    "mse = mean_squared_error(y_test, y_pred)\n",
    "rmse = np.sqrt(mse)\n",
    "r2 = r2_score(y_test, y_pred)\n",
    "print(f'MSE: {mse}, RMSE: {rmse}, R²: {r2}')"
   ]
  },
  {
   "cell_type": "code",
   "execution_count": 105,
   "id": "6f123f4c",
   "metadata": {},
   "outputs": [
    {
     "data": {
      "image/png": "[encoded data removed]",
      "text/plain": [
       "<Figure size 800x500 with 1 Axes>"
      ]
     },
     "metadata": {},
     "output_type": "display_data"
    }
   ],
   "source": [
    "# 視覺化(含95%信賴區間)\n",
    "import scipy.stats as st\n",
    "pred_std = np.std(y_pred - y_test)\n",
    "ci = 1.96 * pred_std\n",
    "plt.figure(figsize=(8,5))\n",
    "plt.scatter(y_test, y_pred, alpha=0.6)\n",
    "plt.plot([y_test.min(), y_test.max()], [y_test.min(), y_test.max()], 'r--')\n",
    "plt.fill_between([y_test.min(), y_test.max()],\n",
    "                 [y_test.min()+ci, y_test.max()+ci],\n",
    "                 [y_test.min()-ci, y_test.max()-ci],\n",
    "                 color='gray', alpha=0.2, label=\"95% CI\")\n",
    "plt.xlabel('Actual Price')\n",
    "plt.ylabel('Predicted Price')\n",
    "plt.title('Actual vs Predicted Price (with 95% CI)')\n",
    "plt.legend()\n",
    "plt.show()"
   ]
  }
 ],
 "metadata": {
  "kernelspec": {
   "display_name": "Python 3",
   "language": "python",
   "name": "python3"
  },
  "language_info": {
   "codemirror_mode": {
    "name": "ipython",
    "version": 3
   },
   "file_extension": ".py",
   "mimetype": "text/x-python",
   "name": "python",
   "nbconvert_exporter": "python",
   "pygments_lexer": "ipython3",
   "version": "3.13.7"
  }
 },
 "nbformat": 4,
 "nbformat_minor": 5
}
